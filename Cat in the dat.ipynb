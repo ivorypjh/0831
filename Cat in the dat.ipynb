{
 "cells": [
  {
   "cell_type": "markdown",
   "id": "fdde1ed0",
   "metadata": {},
   "source": [
    "## 데이터 가져오기"
   ]
  },
  {
   "cell_type": "code",
   "execution_count": 1,
   "id": "2c65c32a",
   "metadata": {},
   "outputs": [],
   "source": [
    "import pandas as pd\n",
    "\n",
    "data_path = './data/kaggle/'\n",
    "\n",
    "train = pd.read_csv(data_path + 'train.csv', index_col = 'id')\n",
    "test = pd.read_csv(data_path + 'test.csv', index_col = 'id')\n",
    "submission = pd.read_csv(data_path + 'sample_submission.csv', index_col = 'id')"
   ]
  },
  {
   "cell_type": "code",
   "execution_count": 2,
   "id": "ab42ef80",
   "metadata": {},
   "outputs": [
    {
     "name": "stdout",
     "output_type": "stream",
     "text": [
      "(300000, 24) (200000, 23)\n",
      "    bin_0  bin_1  bin_2 bin_3 bin_4  nom_0      nom_1    nom_2    nom_3  \\\n",
      "id                                                                        \n",
      "0       0      0      0     T     Y  Green   Triangle    Snake  Finland   \n",
      "1       0      1      0     T     Y  Green  Trapezoid  Hamster   Russia   \n",
      "2       0      0      0     F     Y   Blue  Trapezoid     Lion   Russia   \n",
      "3       0      1      0     F     Y    Red  Trapezoid    Snake   Canada   \n",
      "4       0      0      0     F     N    Red  Trapezoid     Lion   Canada   \n",
      "\n",
      "       nom_4  ...      nom_9 ord_0        ord_1        ord_2 ord_3  ord_4  \\\n",
      "id            ...                                                           \n",
      "0    Bassoon  ...  2f4cb3d51     2  Grandmaster         Cold     h      D   \n",
      "1      Piano  ...  f83c56c21     1  Grandmaster          Hot     a      A   \n",
      "2   Theremin  ...  ae6800dd0     1       Expert     Lava Hot     h      R   \n",
      "3       Oboe  ...  8270f0d71     1  Grandmaster  Boiling Hot     i      D   \n",
      "4       Oboe  ...  b164b72a7     1  Grandmaster     Freezing     a      R   \n",
      "\n",
      "   ord_5 day month target  \n",
      "id                         \n",
      "0     kr   2     2      0  \n",
      "1     bF   7     8      0  \n",
      "2     Jc   7     2      0  \n",
      "3     kW   2     1      1  \n",
      "4     qP   7     8      0  \n",
      "\n",
      "[5 rows x 24 columns]\n",
      "<class 'pandas.core.frame.DataFrame'>\n",
      "Int64Index: 300000 entries, 0 to 299999\n",
      "Data columns (total 24 columns):\n",
      " #   Column  Non-Null Count   Dtype \n",
      "---  ------  --------------   ----- \n",
      " 0   bin_0   300000 non-null  int64 \n",
      " 1   bin_1   300000 non-null  int64 \n",
      " 2   bin_2   300000 non-null  int64 \n",
      " 3   bin_3   300000 non-null  object\n",
      " 4   bin_4   300000 non-null  object\n",
      " 5   nom_0   300000 non-null  object\n",
      " 6   nom_1   300000 non-null  object\n",
      " 7   nom_2   300000 non-null  object\n",
      " 8   nom_3   300000 non-null  object\n",
      " 9   nom_4   300000 non-null  object\n",
      " 10  nom_5   300000 non-null  object\n",
      " 11  nom_6   300000 non-null  object\n",
      " 12  nom_7   300000 non-null  object\n",
      " 13  nom_8   300000 non-null  object\n",
      " 14  nom_9   300000 non-null  object\n",
      " 15  ord_0   300000 non-null  int64 \n",
      " 16  ord_1   300000 non-null  object\n",
      " 17  ord_2   300000 non-null  object\n",
      " 18  ord_3   300000 non-null  object\n",
      " 19  ord_4   300000 non-null  object\n",
      " 20  ord_5   300000 non-null  object\n",
      " 21  day     300000 non-null  int64 \n",
      " 22  month   300000 non-null  int64 \n",
      " 23  target  300000 non-null  int64 \n",
      "dtypes: int64(7), object(17)\n",
      "memory usage: 57.2+ MB\n",
      "None\n"
     ]
    }
   ],
   "source": [
    "print(train.shape, test.shape)\n",
    "# 각 30만, 20만개 데이터\n",
    "\n",
    "print(train.head())\n",
    "print(train.info())\n",
    "# bin, nom, ord, day, month, target 으로 구성"
   ]
  },
  {
   "cell_type": "code",
   "execution_count": 3,
   "id": "3184999d",
   "metadata": {
    "scrolled": true
   },
   "outputs": [
    {
     "name": "stdout",
     "output_type": "stream",
     "text": [
      "        target\n",
      "id            \n",
      "300000     0.5\n",
      "300001     0.5\n",
      "300002     0.5\n",
      "300003     0.5\n",
      "300004     0.5\n"
     ]
    }
   ],
   "source": [
    "# 답안 제출 형식 확인 - 클래스가 아닌 확률로 제출\n",
    "print(submission.head())"
   ]
  },
  {
   "cell_type": "markdown",
   "id": "e6b56a6e",
   "metadata": {},
   "source": [
    "### 데이터 탐색"
   ]
  },
  {
   "cell_type": "code",
   "execution_count": 4,
   "id": "81830866",
   "metadata": {},
   "outputs": [],
   "source": [
    "# 함수의 정보를 요약하는 함수\n",
    "# 데이터를 가져올 때마다 데이터의 정보를 빠르게 확인 가능\n",
    "def datafeature(df):\n",
    "    print('데이터의 구조 :', df.shape)\n",
    "    summary = pd.DataFrame(df.dtypes, columns = ['데이터 타입'])\n",
    "    summary = summary.reset_index()\n",
    "    summary = summary.rename(columns = {'index' : 'Feature'})\n",
    "    summary['결측값 개수'] = df.isnull().sum().values\n",
    "    summary['고유값 개수'] = df.nunique().values\n",
    "    summary['첫번째 값'] = df.loc[0].values\n",
    "    summary['두번째 값'] = df.loc[1].values\n",
    "    summary['세번째 값'] = df.loc[2].values\n",
    "    \n",
    "    return summary"
   ]
  },
  {
   "cell_type": "code",
   "execution_count": 5,
   "id": "be9fac81",
   "metadata": {},
   "outputs": [
    {
     "name": "stdout",
     "output_type": "stream",
     "text": [
      "데이터의 구조 : (300000, 24)\n"
     ]
    },
    {
     "data": {
      "text/html": [
       "<div>\n",
       "<style scoped>\n",
       "    .dataframe tbody tr th:only-of-type {\n",
       "        vertical-align: middle;\n",
       "    }\n",
       "\n",
       "    .dataframe tbody tr th {\n",
       "        vertical-align: top;\n",
       "    }\n",
       "\n",
       "    .dataframe thead th {\n",
       "        text-align: right;\n",
       "    }\n",
       "</style>\n",
       "<table border=\"1\" class=\"dataframe\">\n",
       "  <thead>\n",
       "    <tr style=\"text-align: right;\">\n",
       "      <th></th>\n",
       "      <th>Feature</th>\n",
       "      <th>데이터 타입</th>\n",
       "      <th>결측값 개수</th>\n",
       "      <th>고유값 개수</th>\n",
       "      <th>첫번째 값</th>\n",
       "      <th>두번째 값</th>\n",
       "      <th>세번째 값</th>\n",
       "    </tr>\n",
       "  </thead>\n",
       "  <tbody>\n",
       "    <tr>\n",
       "      <th>0</th>\n",
       "      <td>bin_0</td>\n",
       "      <td>int64</td>\n",
       "      <td>0</td>\n",
       "      <td>2</td>\n",
       "      <td>0</td>\n",
       "      <td>0</td>\n",
       "      <td>0</td>\n",
       "    </tr>\n",
       "    <tr>\n",
       "      <th>1</th>\n",
       "      <td>bin_1</td>\n",
       "      <td>int64</td>\n",
       "      <td>0</td>\n",
       "      <td>2</td>\n",
       "      <td>0</td>\n",
       "      <td>1</td>\n",
       "      <td>0</td>\n",
       "    </tr>\n",
       "    <tr>\n",
       "      <th>2</th>\n",
       "      <td>bin_2</td>\n",
       "      <td>int64</td>\n",
       "      <td>0</td>\n",
       "      <td>2</td>\n",
       "      <td>0</td>\n",
       "      <td>0</td>\n",
       "      <td>0</td>\n",
       "    </tr>\n",
       "    <tr>\n",
       "      <th>3</th>\n",
       "      <td>bin_3</td>\n",
       "      <td>object</td>\n",
       "      <td>0</td>\n",
       "      <td>2</td>\n",
       "      <td>T</td>\n",
       "      <td>T</td>\n",
       "      <td>F</td>\n",
       "    </tr>\n",
       "    <tr>\n",
       "      <th>4</th>\n",
       "      <td>bin_4</td>\n",
       "      <td>object</td>\n",
       "      <td>0</td>\n",
       "      <td>2</td>\n",
       "      <td>Y</td>\n",
       "      <td>Y</td>\n",
       "      <td>Y</td>\n",
       "    </tr>\n",
       "    <tr>\n",
       "      <th>5</th>\n",
       "      <td>nom_0</td>\n",
       "      <td>object</td>\n",
       "      <td>0</td>\n",
       "      <td>3</td>\n",
       "      <td>Green</td>\n",
       "      <td>Green</td>\n",
       "      <td>Blue</td>\n",
       "    </tr>\n",
       "    <tr>\n",
       "      <th>6</th>\n",
       "      <td>nom_1</td>\n",
       "      <td>object</td>\n",
       "      <td>0</td>\n",
       "      <td>6</td>\n",
       "      <td>Triangle</td>\n",
       "      <td>Trapezoid</td>\n",
       "      <td>Trapezoid</td>\n",
       "    </tr>\n",
       "    <tr>\n",
       "      <th>7</th>\n",
       "      <td>nom_2</td>\n",
       "      <td>object</td>\n",
       "      <td>0</td>\n",
       "      <td>6</td>\n",
       "      <td>Snake</td>\n",
       "      <td>Hamster</td>\n",
       "      <td>Lion</td>\n",
       "    </tr>\n",
       "    <tr>\n",
       "      <th>8</th>\n",
       "      <td>nom_3</td>\n",
       "      <td>object</td>\n",
       "      <td>0</td>\n",
       "      <td>6</td>\n",
       "      <td>Finland</td>\n",
       "      <td>Russia</td>\n",
       "      <td>Russia</td>\n",
       "    </tr>\n",
       "    <tr>\n",
       "      <th>9</th>\n",
       "      <td>nom_4</td>\n",
       "      <td>object</td>\n",
       "      <td>0</td>\n",
       "      <td>4</td>\n",
       "      <td>Bassoon</td>\n",
       "      <td>Piano</td>\n",
       "      <td>Theremin</td>\n",
       "    </tr>\n",
       "    <tr>\n",
       "      <th>10</th>\n",
       "      <td>nom_5</td>\n",
       "      <td>object</td>\n",
       "      <td>0</td>\n",
       "      <td>222</td>\n",
       "      <td>50f116bcf</td>\n",
       "      <td>b3b4d25d0</td>\n",
       "      <td>3263bdce5</td>\n",
       "    </tr>\n",
       "    <tr>\n",
       "      <th>11</th>\n",
       "      <td>nom_6</td>\n",
       "      <td>object</td>\n",
       "      <td>0</td>\n",
       "      <td>522</td>\n",
       "      <td>3ac1b8814</td>\n",
       "      <td>fbcb50fc1</td>\n",
       "      <td>0922e3cb8</td>\n",
       "    </tr>\n",
       "    <tr>\n",
       "      <th>12</th>\n",
       "      <td>nom_7</td>\n",
       "      <td>object</td>\n",
       "      <td>0</td>\n",
       "      <td>1220</td>\n",
       "      <td>68f6ad3e9</td>\n",
       "      <td>3b6dd5612</td>\n",
       "      <td>a6a36f527</td>\n",
       "    </tr>\n",
       "    <tr>\n",
       "      <th>13</th>\n",
       "      <td>nom_8</td>\n",
       "      <td>object</td>\n",
       "      <td>0</td>\n",
       "      <td>2215</td>\n",
       "      <td>c389000ab</td>\n",
       "      <td>4cd920251</td>\n",
       "      <td>de9c9f684</td>\n",
       "    </tr>\n",
       "    <tr>\n",
       "      <th>14</th>\n",
       "      <td>nom_9</td>\n",
       "      <td>object</td>\n",
       "      <td>0</td>\n",
       "      <td>11981</td>\n",
       "      <td>2f4cb3d51</td>\n",
       "      <td>f83c56c21</td>\n",
       "      <td>ae6800dd0</td>\n",
       "    </tr>\n",
       "    <tr>\n",
       "      <th>15</th>\n",
       "      <td>ord_0</td>\n",
       "      <td>int64</td>\n",
       "      <td>0</td>\n",
       "      <td>3</td>\n",
       "      <td>2</td>\n",
       "      <td>1</td>\n",
       "      <td>1</td>\n",
       "    </tr>\n",
       "    <tr>\n",
       "      <th>16</th>\n",
       "      <td>ord_1</td>\n",
       "      <td>object</td>\n",
       "      <td>0</td>\n",
       "      <td>5</td>\n",
       "      <td>Grandmaster</td>\n",
       "      <td>Grandmaster</td>\n",
       "      <td>Expert</td>\n",
       "    </tr>\n",
       "    <tr>\n",
       "      <th>17</th>\n",
       "      <td>ord_2</td>\n",
       "      <td>object</td>\n",
       "      <td>0</td>\n",
       "      <td>6</td>\n",
       "      <td>Cold</td>\n",
       "      <td>Hot</td>\n",
       "      <td>Lava Hot</td>\n",
       "    </tr>\n",
       "    <tr>\n",
       "      <th>18</th>\n",
       "      <td>ord_3</td>\n",
       "      <td>object</td>\n",
       "      <td>0</td>\n",
       "      <td>15</td>\n",
       "      <td>h</td>\n",
       "      <td>a</td>\n",
       "      <td>h</td>\n",
       "    </tr>\n",
       "    <tr>\n",
       "      <th>19</th>\n",
       "      <td>ord_4</td>\n",
       "      <td>object</td>\n",
       "      <td>0</td>\n",
       "      <td>26</td>\n",
       "      <td>D</td>\n",
       "      <td>A</td>\n",
       "      <td>R</td>\n",
       "    </tr>\n",
       "    <tr>\n",
       "      <th>20</th>\n",
       "      <td>ord_5</td>\n",
       "      <td>object</td>\n",
       "      <td>0</td>\n",
       "      <td>192</td>\n",
       "      <td>kr</td>\n",
       "      <td>bF</td>\n",
       "      <td>Jc</td>\n",
       "    </tr>\n",
       "    <tr>\n",
       "      <th>21</th>\n",
       "      <td>day</td>\n",
       "      <td>int64</td>\n",
       "      <td>0</td>\n",
       "      <td>7</td>\n",
       "      <td>2</td>\n",
       "      <td>7</td>\n",
       "      <td>7</td>\n",
       "    </tr>\n",
       "    <tr>\n",
       "      <th>22</th>\n",
       "      <td>month</td>\n",
       "      <td>int64</td>\n",
       "      <td>0</td>\n",
       "      <td>12</td>\n",
       "      <td>2</td>\n",
       "      <td>8</td>\n",
       "      <td>2</td>\n",
       "    </tr>\n",
       "    <tr>\n",
       "      <th>23</th>\n",
       "      <td>target</td>\n",
       "      <td>int64</td>\n",
       "      <td>0</td>\n",
       "      <td>2</td>\n",
       "      <td>0</td>\n",
       "      <td>0</td>\n",
       "      <td>0</td>\n",
       "    </tr>\n",
       "  </tbody>\n",
       "</table>\n",
       "</div>"
      ],
      "text/plain": [
       "   Feature  데이터 타입  결측값 개수  고유값 개수        첫번째 값        두번째 값      세번째 값\n",
       "0    bin_0   int64       0       2            0            0          0\n",
       "1    bin_1   int64       0       2            0            1          0\n",
       "2    bin_2   int64       0       2            0            0          0\n",
       "3    bin_3  object       0       2            T            T          F\n",
       "4    bin_4  object       0       2            Y            Y          Y\n",
       "5    nom_0  object       0       3        Green        Green       Blue\n",
       "6    nom_1  object       0       6     Triangle    Trapezoid  Trapezoid\n",
       "7    nom_2  object       0       6        Snake      Hamster       Lion\n",
       "8    nom_3  object       0       6      Finland       Russia     Russia\n",
       "9    nom_4  object       0       4      Bassoon        Piano   Theremin\n",
       "10   nom_5  object       0     222    50f116bcf    b3b4d25d0  3263bdce5\n",
       "11   nom_6  object       0     522    3ac1b8814    fbcb50fc1  0922e3cb8\n",
       "12   nom_7  object       0    1220    68f6ad3e9    3b6dd5612  a6a36f527\n",
       "13   nom_8  object       0    2215    c389000ab    4cd920251  de9c9f684\n",
       "14   nom_9  object       0   11981    2f4cb3d51    f83c56c21  ae6800dd0\n",
       "15   ord_0   int64       0       3            2            1          1\n",
       "16   ord_1  object       0       5  Grandmaster  Grandmaster     Expert\n",
       "17   ord_2  object       0       6         Cold          Hot   Lava Hot\n",
       "18   ord_3  object       0      15            h            a          h\n",
       "19   ord_4  object       0      26            D            A          R\n",
       "20   ord_5  object       0     192           kr           bF         Jc\n",
       "21     day   int64       0       7            2            7          7\n",
       "22   month   int64       0      12            2            8          2\n",
       "23  target   int64       0       2            0            0          0"
      ]
     },
     "execution_count": 5,
     "metadata": {},
     "output_type": "execute_result"
    }
   ],
   "source": [
    "datafeature(train)"
   ]
  },
  {
   "cell_type": "code",
   "execution_count": 6,
   "id": "c83f233b",
   "metadata": {},
   "outputs": [
    {
     "name": "stdout",
     "output_type": "stream",
     "text": [
      "ord_0 고유 값 : [2 1 3]\n",
      "ord_1 고유 값 : ['Grandmaster' 'Expert' 'Novice' 'Contributor' 'Master']\n",
      "ord_2 고유 값 : ['Cold' 'Hot' 'Lava Hot' 'Boiling Hot' 'Freezing' 'Warm']\n"
     ]
    }
   ],
   "source": [
    "# 순서형 feature 목록 확인\n",
    "# 순서형 feature 에서 고유한 데이터들 확인\n",
    "\n",
    "for i in range(3):\n",
    "    feature = 'ord_' + str(i)\n",
    "    # 문자열이 아닌 데이터를 출력하고자 하는 경우\n",
    "    # f'{데이터}\n",
    "    # 문자열이 아닌 데이터를 문자열과 함께 출력할 때 사용\n",
    "    print(feature + f' 고유 값 : {train[feature].unique()}')"
   ]
  },
  {
   "cell_type": "code",
   "execution_count": 7,
   "id": "0cc96954",
   "metadata": {},
   "outputs": [
    {
     "name": "stdout",
     "output_type": "stream",
     "text": [
      "month 고유값 : [ 2  8  1  4 10  3  7  9 12 11  5  6]\n",
      "day 고유값 : [2 7 5 4 3 1 6]\n",
      "target 고유값 : [0 1]\n"
     ]
    }
   ],
   "source": [
    "print('month 고유값 :', train['month'].unique())\n",
    "print('day 고유값 :', train['day'].unique())\n",
    "print('target 고유값 :', train['target'].unique())"
   ]
  },
  {
   "cell_type": "markdown",
   "id": "c326a624",
   "metadata": {},
   "source": [
    "### 시각화를 이용한 데이터 탐색"
   ]
  },
  {
   "cell_type": "code",
   "execution_count": 8,
   "id": "9493cb00",
   "metadata": {},
   "outputs": [
    {
     "data": {
      "image/png": "[encoded data removed]",
      "text/plain": [
       "<Figure size 800x600 with 1 Axes>"
      ]
     },
     "metadata": {},
     "output_type": "display_data"
    }
   ],
   "source": [
    "import seaborn as sns\n",
    "import matplotlib as mpl\n",
    "import matplotlib.pyplot as plt\n",
    "\n",
    "\n",
    "# 타겟의 분포 확인\n",
    "\n",
    "# 글자 크기 설정\n",
    "mpl.rc('font', size = 12)\n",
    "plt.figure(figsize = (8, 6))\n",
    "# 영역 확보\n",
    "ax = sns.countplot(x = 'target', data = train)\n",
    "ax.set(title = 'Target Distribution')\n",
    "\n",
    "plt.show()"
   ]
  },
  {
   "cell_type": "code",
   "execution_count": 9,
   "id": "8d64a344",
   "metadata": {},
   "outputs": [
    {
     "name": "stdout",
     "output_type": "stream",
     "text": [
      "높이 : 208236.0 , 91764.0\n",
      "너비 : 0.8 , 0.8\n",
      "왼쪽 테두리의 x 좌표 : -0.4 , 0.6\n"
     ]
    }
   ],
   "source": [
    "# 첫번째 막대에 대한 정보 확인\n",
    "# 막대에 대한 정보를 바탕으로 그래프에 텍스트 위치를 설정\n",
    "\n",
    "rect1 = ax.patches[0]\n",
    "rect2 = ax.patches[1]\n",
    "print('높이 :', rect1.get_height(),  ',' ,rect2.get_height())\n",
    "print('너비 :', rect1.get_width(),  ',' ,rect2.get_width())\n",
    "print('왼쪽 테두리의 x 좌표 :',  rect1.get_x(), ',', rect2.get_x())"
   ]
  },
  {
   "cell_type": "code",
   "execution_count": 10,
   "id": "b32707d2",
   "metadata": {},
   "outputs": [
    {
     "data": {
      "image/png": "[encoded data removed]",
      "text/plain": [
       "<Figure size 800x600 with 1 Axes>"
      ]
     },
     "metadata": {},
     "output_type": "display_data"
    }
   ],
   "source": [
    "# 텍스트 출력 - 비율을 표시\n",
    "def write_percent(ax, total_size):\n",
    "    for patch in ax.patches:\n",
    "        height = patch.get_height()\n",
    "        width = patch.get_width()\n",
    "        left_coord = patch.get_x()\n",
    "        # 막대의 높이를 이용해서 비율 구하기\n",
    "        percent = height/total_size * 100\n",
    "        # 텍스트 출력 - 위에 비율을 표시\n",
    "        # 왼족 테두리 좌표를 가지고 x 좌표 계산\n",
    "        # y 좌표는 높이보다 조금 더 높게 설정\n",
    "        ax.text(x = left_coord + width/2.0,\n",
    "               y = height + total_size * 0.002,\n",
    "               s = f'{percent:1.1f}%',\n",
    "               ha = 'center')\n",
    "        \n",
    "plt.figure(figsize = (8, 6))\n",
    "ax = sns.countplot(x = 'target', data = train)\n",
    "write_percent(ax, len(train))\n",
    "ax.set_title('Target Distribution')\n",
    "\n",
    "plt.show()"
   ]
  },
  {
   "cell_type": "code",
   "execution_count": 11,
   "id": "e951b9d5",
   "metadata": {},
   "outputs": [
    {
     "data": {
      "image/png": "[encoded data removed]",
      "text/plain": [
       "<Figure size 1000x1000 with 5 Axes>"
      ]
     },
     "metadata": {},
     "output_type": "display_data"
    }
   ],
   "source": [
    "# 여러 개의 이진 데이터 분포 확인\n",
    "\n",
    "# 여러 개의 이미지를 출력할 때 사용하는 격자(grid)\n",
    "import matplotlib.gridspec as gridspec\n",
    "\n",
    "mpl.rc('font', size = 8)\n",
    "\n",
    "# 3행 2열 공간을 설정\n",
    "grid = gridspec.GridSpec(3, 2)\n",
    "plt.figure(figsize = (10, 10))\n",
    "# 여백과 공간 설정\n",
    "plt.subplots_adjust(wspace = 0.4, hspace = 0.3)\n",
    "\n",
    "# bin 으로 시작하는 feature 출력\n",
    "\n",
    "# 시각화 할 컬럼 리스트\n",
    "bin_features = ['bin_0', 'bin_1', 'bin_2', 'bin_3', 'bin_4']\n",
    "\n",
    "for idx, feature in enumerate(bin_features):\n",
    "    ax = plt.subplot(grid[idx])\n",
    "    # hue 는 색상\n",
    "    sns.countplot(x = feature, data = train, hue = 'target',\n",
    "                 palette = 'pastel', ax = ax)\n",
    "    ax.set_title(f'{feature} Distribution by Target')\n",
    "    write_percent(ax, len(train))\n",
    "\n"
   ]
  },
  {
   "cell_type": "markdown",
   "id": "6934eb39",
   "metadata": {},
   "source": [
    "### 교차 분석표를 이용한 데이터 분포 확인"
   ]
  },
  {
   "cell_type": "code",
   "execution_count": 12,
   "id": "f9ed958f",
   "metadata": {},
   "outputs": [
    {
     "data": {
      "text/html": [
       "<div>\n",
       "<style scoped>\n",
       "    .dataframe tbody tr th:only-of-type {\n",
       "        vertical-align: middle;\n",
       "    }\n",
       "\n",
       "    .dataframe tbody tr th {\n",
       "        vertical-align: top;\n",
       "    }\n",
       "\n",
       "    .dataframe thead th {\n",
       "        text-align: right;\n",
       "    }\n",
       "</style>\n",
       "<table border=\"1\" class=\"dataframe\">\n",
       "  <thead>\n",
       "    <tr style=\"text-align: right;\">\n",
       "      <th>target</th>\n",
       "      <th>0</th>\n",
       "      <th>1</th>\n",
       "    </tr>\n",
       "    <tr>\n",
       "      <th>nom_0</th>\n",
       "      <th></th>\n",
       "      <th></th>\n",
       "    </tr>\n",
       "  </thead>\n",
       "  <tbody>\n",
       "    <tr>\n",
       "      <th>Blue</th>\n",
       "      <td>72914</td>\n",
       "      <td>23252</td>\n",
       "    </tr>\n",
       "    <tr>\n",
       "      <th>Green</th>\n",
       "      <td>85682</td>\n",
       "      <td>41659</td>\n",
       "    </tr>\n",
       "    <tr>\n",
       "      <th>Red</th>\n",
       "      <td>49640</td>\n",
       "      <td>26853</td>\n",
       "    </tr>\n",
       "  </tbody>\n",
       "</table>\n",
       "</div>"
      ],
      "text/plain": [
       "target      0      1\n",
       "nom_0               \n",
       "Blue    72914  23252\n",
       "Green   85682  41659\n",
       "Red     49640  26853"
      ]
     },
     "execution_count": 12,
     "metadata": {},
     "output_type": "execute_result"
    }
   ],
   "source": [
    "# 교차 분석표 - crosstab\n",
    "pd.crosstab(train['nom_0'], train['target'])"
   ]
  },
  {
   "cell_type": "code",
   "execution_count": 13,
   "id": "0a62bd85",
   "metadata": {},
   "outputs": [
    {
     "data": {
      "text/html": [
       "<div>\n",
       "<style scoped>\n",
       "    .dataframe tbody tr th:only-of-type {\n",
       "        vertical-align: middle;\n",
       "    }\n",
       "\n",
       "    .dataframe tbody tr th {\n",
       "        vertical-align: top;\n",
       "    }\n",
       "\n",
       "    .dataframe thead th {\n",
       "        text-align: right;\n",
       "    }\n",
       "</style>\n",
       "<table border=\"1\" class=\"dataframe\">\n",
       "  <thead>\n",
       "    <tr style=\"text-align: right;\">\n",
       "      <th>target</th>\n",
       "      <th>0</th>\n",
       "      <th>1</th>\n",
       "    </tr>\n",
       "    <tr>\n",
       "      <th>nom_0</th>\n",
       "      <th></th>\n",
       "      <th></th>\n",
       "    </tr>\n",
       "  </thead>\n",
       "  <tbody>\n",
       "    <tr>\n",
       "      <th>Blue</th>\n",
       "      <td>75.820976</td>\n",
       "      <td>24.179024</td>\n",
       "    </tr>\n",
       "    <tr>\n",
       "      <th>Green</th>\n",
       "      <td>67.285478</td>\n",
       "      <td>32.714522</td>\n",
       "    </tr>\n",
       "    <tr>\n",
       "      <th>Red</th>\n",
       "      <td>64.894827</td>\n",
       "      <td>35.105173</td>\n",
       "    </tr>\n",
       "  </tbody>\n",
       "</table>\n",
       "</div>"
      ],
      "text/plain": [
       "target          0          1\n",
       "nom_0                       \n",
       "Blue    75.820976  24.179024\n",
       "Green   67.285478  32.714522\n",
       "Red     64.894827  35.105173"
      ]
     },
     "execution_count": 13,
     "metadata": {},
     "output_type": "execute_result"
    }
   ],
   "source": [
    "# 교차 분석표를 백분율로 확인\n",
    "crosstab = pd.crosstab(train['nom_0'], train['target'], normalize = 'index') * 100\n",
    "crosstab"
   ]
  },
  {
   "cell_type": "code",
   "execution_count": 14,
   "id": "28265dd2",
   "metadata": {},
   "outputs": [
    {
     "data": {
      "text/html": [
       "<div>\n",
       "<style scoped>\n",
       "    .dataframe tbody tr th:only-of-type {\n",
       "        vertical-align: middle;\n",
       "    }\n",
       "\n",
       "    .dataframe tbody tr th {\n",
       "        vertical-align: top;\n",
       "    }\n",
       "\n",
       "    .dataframe thead th {\n",
       "        text-align: right;\n",
       "    }\n",
       "</style>\n",
       "<table border=\"1\" class=\"dataframe\">\n",
       "  <thead>\n",
       "    <tr style=\"text-align: right;\">\n",
       "      <th>target</th>\n",
       "      <th>nom_0</th>\n",
       "      <th>0</th>\n",
       "      <th>1</th>\n",
       "    </tr>\n",
       "  </thead>\n",
       "  <tbody>\n",
       "    <tr>\n",
       "      <th>0</th>\n",
       "      <td>Blue</td>\n",
       "      <td>75.820976</td>\n",
       "      <td>24.179024</td>\n",
       "    </tr>\n",
       "    <tr>\n",
       "      <th>1</th>\n",
       "      <td>Green</td>\n",
       "      <td>67.285478</td>\n",
       "      <td>32.714522</td>\n",
       "    </tr>\n",
       "    <tr>\n",
       "      <th>2</th>\n",
       "      <td>Red</td>\n",
       "      <td>64.894827</td>\n",
       "      <td>35.105173</td>\n",
       "    </tr>\n",
       "  </tbody>\n",
       "</table>\n",
       "</div>"
      ],
      "text/plain": [
       "target  nom_0          0          1\n",
       "0        Blue  75.820976  24.179024\n",
       "1       Green  67.285478  32.714522\n",
       "2         Red  64.894827  35.105173"
      ]
     },
     "execution_count": 14,
     "metadata": {},
     "output_type": "execute_result"
    }
   ],
   "source": [
    "# 인덱스를 일련번호로 수정\n",
    "# 인덱스에 있던 nom_0 가 표 안으로 들어오고\n",
    "# 인덱스는 일련 번호로 대체됨\n",
    "crosstab = crosstab.reset_index()\n",
    "crosstab"
   ]
  },
  {
   "cell_type": "code",
   "execution_count": 15,
   "id": "a47de3d0",
   "metadata": {},
   "outputs": [
    {
     "data": {
      "text/html": [
       "<div>\n",
       "<style scoped>\n",
       "    .dataframe tbody tr th:only-of-type {\n",
       "        vertical-align: middle;\n",
       "    }\n",
       "\n",
       "    .dataframe tbody tr th {\n",
       "        vertical-align: top;\n",
       "    }\n",
       "\n",
       "    .dataframe thead th {\n",
       "        text-align: right;\n",
       "    }\n",
       "</style>\n",
       "<table border=\"1\" class=\"dataframe\">\n",
       "  <thead>\n",
       "    <tr style=\"text-align: right;\">\n",
       "      <th>target</th>\n",
       "      <th>nom_0</th>\n",
       "      <th>0</th>\n",
       "      <th>1</th>\n",
       "    </tr>\n",
       "  </thead>\n",
       "  <tbody>\n",
       "    <tr>\n",
       "      <th>0</th>\n",
       "      <td>Blue</td>\n",
       "      <td>75.820976</td>\n",
       "      <td>24.179024</td>\n",
       "    </tr>\n",
       "    <tr>\n",
       "      <th>1</th>\n",
       "      <td>Green</td>\n",
       "      <td>67.285478</td>\n",
       "      <td>32.714522</td>\n",
       "    </tr>\n",
       "    <tr>\n",
       "      <th>2</th>\n",
       "      <td>Red</td>\n",
       "      <td>64.894827</td>\n",
       "      <td>35.105173</td>\n",
       "    </tr>\n",
       "  </tbody>\n",
       "</table>\n",
       "</div>"
      ],
      "text/plain": [
       "target  nom_0          0          1\n",
       "0        Blue  75.820976  24.179024\n",
       "1       Green  67.285478  32.714522\n",
       "2         Red  64.894827  35.105173"
      ]
     },
     "execution_count": 15,
     "metadata": {},
     "output_type": "execute_result"
    }
   ],
   "source": [
    "# 교차 분석표를 생성하는 함수\n",
    "# 데이터와 feature 를 입력하면 그들에 대한 분석표를 생성\n",
    "def get_crosstab(df, feature):\n",
    "    crosstab = pd.crosstab(train[feature], train['target'], normalize = 'index') * 100\n",
    "    crosstab = crosstab.reset_index()\n",
    "    return crosstab\n",
    "\n",
    "crosstab = get_crosstab(train, 'nom_0')\n",
    "crosstab\n",
    "    "
   ]
  },
  {
   "cell_type": "markdown",
   "id": "98268188",
   "metadata": {},
   "source": [
    "## 데이터 전처리"
   ]
  },
  {
   "cell_type": "code",
   "execution_count": 16,
   "id": "7fcdd027",
   "metadata": {},
   "outputs": [
    {
     "name": "stdout",
     "output_type": "stream",
     "text": [
      "['Grandmaster' 'Expert' 'Novice' 'Contributor' 'Master']\n",
      "['Cold' 'Hot' 'Lava Hot' 'Boiling Hot' 'Freezing' 'Warm']\n"
     ]
    }
   ],
   "source": [
    "print(train['ord_1'].unique())\n",
    "print(train['ord_2'].unique())\n",
    "# ord_1 은 Novice, Contributor, Expert, \n",
    "# Master, Grandmaster 순으로 카테고리를 설정\n",
    "# ord_2 는 Freezing, Cold, Warm, Hot,\n",
    "# Boiling Hot, Lava Hot 순으로 카테고리를 설정"
   ]
  },
  {
   "cell_type": "code",
   "execution_count": 17,
   "id": "664c8d64",
   "metadata": {},
   "outputs": [
    {
     "name": "stdout",
     "output_type": "stream",
     "text": [
      "<class 'pandas.core.frame.DataFrame'>\n",
      "Int64Index: 300000 entries, 0 to 299999\n",
      "Data columns (total 24 columns):\n",
      " #   Column  Non-Null Count   Dtype   \n",
      "---  ------  --------------   -----   \n",
      " 0   bin_0   300000 non-null  int64   \n",
      " 1   bin_1   300000 non-null  int64   \n",
      " 2   bin_2   300000 non-null  int64   \n",
      " 3   bin_3   300000 non-null  object  \n",
      " 4   bin_4   300000 non-null  object  \n",
      " 5   nom_0   300000 non-null  object  \n",
      " 6   nom_1   300000 non-null  object  \n",
      " 7   nom_2   300000 non-null  object  \n",
      " 8   nom_3   300000 non-null  object  \n",
      " 9   nom_4   300000 non-null  object  \n",
      " 10  nom_5   300000 non-null  object  \n",
      " 11  nom_6   300000 non-null  object  \n",
      " 12  nom_7   300000 non-null  object  \n",
      " 13  nom_8   300000 non-null  object  \n",
      " 14  nom_9   300000 non-null  object  \n",
      " 15  ord_0   300000 non-null  int64   \n",
      " 16  ord_1   300000 non-null  category\n",
      " 17  ord_2   300000 non-null  category\n",
      " 18  ord_3   300000 non-null  object  \n",
      " 19  ord_4   300000 non-null  object  \n",
      " 20  ord_5   300000 non-null  object  \n",
      " 21  day     300000 non-null  int64   \n",
      " 22  month   300000 non-null  int64   \n",
      " 23  target  300000 non-null  int64   \n",
      "dtypes: category(2), int64(7), object(15)\n",
      "memory usage: 61.3+ MB\n"
     ]
    }
   ],
   "source": [
    "from pandas.api.types import CategoricalDtype\n",
    "\n",
    "ord_1_value = ['Novice', 'Contributor', 'Expert', 'Master', 'Grandmaster']\n",
    "ord_2_value = ['Freezing', 'Cold', 'Warm', 'Hot', 'Boiling Hot', 'Lava Hot']\n",
    "\n",
    "# 문자열 list 를 타입으로 생성 - enum\n",
    "# 파이썬에는 enum 이 없음\n",
    "ord_1_dtype = CategoricalDtype(categories = ord_1_value, ordered = True)\n",
    "ord_2_dtype = CategoricalDtype(categories = ord_2_value, ordered = True)\n",
    "\n",
    "# 생성한 타입으로 기준의 순서형 데이터를 변환\n",
    "train['ord_1'] = train['ord_1'].astype(ord_1_dtype)\n",
    "train['ord_2'] = train['ord_2'].astype(ord_2_dtype)\n",
    "\n",
    "train.info()"
   ]
  },
  {
   "cell_type": "markdown",
   "id": "c9853ce0",
   "metadata": {},
   "source": [
    "## 기본 모델링"
   ]
  },
  {
   "cell_type": "markdown",
   "id": "32af4e00",
   "metadata": {},
   "source": [
    "### 데이터 가져오기"
   ]
  },
  {
   "cell_type": "code",
   "execution_count": 18,
   "id": "c05ba943",
   "metadata": {},
   "outputs": [],
   "source": [
    "train = pd.read_csv(data_path + 'train.csv', index_col = 'id')\n",
    "test = pd.read_csv(data_path + 'test.csv', index_col = 'id')\n",
    "submission = pd.read_csv(data_path + 'sample_submission.csv', index_col = 'id')"
   ]
  },
  {
   "cell_type": "markdown",
   "id": "0b19ba87",
   "metadata": {},
   "source": [
    "### 데이터 전처리"
   ]
  },
  {
   "cell_type": "code",
   "execution_count": 19,
   "id": "34ef6e02",
   "metadata": {},
   "outputs": [
    {
     "name": "stdout",
     "output_type": "stream",
     "text": [
      "<class 'pandas.core.frame.DataFrame'>\n",
      "Int64Index: 500000 entries, 0 to 499999\n",
      "Data columns (total 23 columns):\n",
      " #   Column  Non-Null Count   Dtype \n",
      "---  ------  --------------   ----- \n",
      " 0   bin_0   500000 non-null  int64 \n",
      " 1   bin_1   500000 non-null  int64 \n",
      " 2   bin_2   500000 non-null  int64 \n",
      " 3   bin_3   500000 non-null  object\n",
      " 4   bin_4   500000 non-null  object\n",
      " 5   nom_0   500000 non-null  object\n",
      " 6   nom_1   500000 non-null  object\n",
      " 7   nom_2   500000 non-null  object\n",
      " 8   nom_3   500000 non-null  object\n",
      " 9   nom_4   500000 non-null  object\n",
      " 10  nom_5   500000 non-null  object\n",
      " 11  nom_6   500000 non-null  object\n",
      " 12  nom_7   500000 non-null  object\n",
      " 13  nom_8   500000 non-null  object\n",
      " 14  nom_9   500000 non-null  object\n",
      " 15  ord_0   500000 non-null  int64 \n",
      " 16  ord_1   500000 non-null  object\n",
      " 17  ord_2   500000 non-null  object\n",
      " 18  ord_3   500000 non-null  object\n",
      " 19  ord_4   500000 non-null  object\n",
      " 20  ord_5   500000 non-null  object\n",
      " 21  day     500000 non-null  int64 \n",
      " 22  month   500000 non-null  int64 \n",
      "dtypes: int64(6), object(17)\n",
      "memory usage: 91.6+ MB\n"
     ]
    }
   ],
   "source": [
    "# 전처리를 하기 전에 훈련 데이터와 테스트 데이터를 결합\n",
    "all_data = pd.concat([train, test])\n",
    "# target 은 전처리 대상이 아니므로 제외\n",
    "all_data = all_data.drop('target', axis = 1)\n",
    "# 확인 - 데이터 50만개\n",
    "all_data.info()"
   ]
  },
  {
   "cell_type": "code",
   "execution_count": 20,
   "id": "f8345703",
   "metadata": {},
   "outputs": [
    {
     "data": {
      "text/plain": [
       "<1x16552 sparse matrix of type '<class 'numpy.float64'>'\n",
       "\twith 23 stored elements in Compressed Sparse Row format>"
      ]
     },
     "execution_count": 20,
     "metadata": {},
     "output_type": "execute_result"
    }
   ],
   "source": [
    "# 범주형 데이터를 원 핫 잍코딩\n",
    "\n",
    "from sklearn.preprocessing import OneHotEncoder\n",
    "\n",
    "encoder = OneHotEncoder()\n",
    "all_data_encoded = encoder.fit_transform(all_data)\n",
    "\n",
    "# 원 핫 인코딩을 거치면 ndarray 가 되므로 확인 방식도 달라짐\n",
    "all_data_encoded[0]"
   ]
  },
  {
   "cell_type": "code",
   "execution_count": 27,
   "id": "35ed1fd7",
   "metadata": {},
   "outputs": [],
   "source": [
    "# 훈련 데이터와 테스트 데이터를 다시 분리\n",
    "# 데이터를 합쳐서 전처리를 하고 끝마친 뒤 다시 분리\n",
    "\n",
    "num_train = len(train)\n",
    "X_train = all_data_encoded[:num_train]\n",
    "X_test = all_data_encoded[num_train:]\n",
    "\n",
    "y = train['target']"
   ]
  },
  {
   "cell_type": "code",
   "execution_count": 28,
   "id": "1a3428fd",
   "metadata": {},
   "outputs": [],
   "source": [
    "# 훈련에 사용할 데이터와 검증을 위한 데이터 분리\n",
    "\n",
    "from sklearn.model_selection import train_test_split\n",
    "\n",
    "# 데이터를 확인했을 때 0 과 1 의 비율 차이가 컸으므로\n",
    "# 층화 추출을 이용해서 테스트와 검증 데이트를 생성\n",
    "X_train, X_valid, y_train, y_valid = train_test_split(X_train, y,test_size = 0.2,\n",
    "                                                   random_state = 21, stratify = y)"
   ]
  },
  {
   "cell_type": "markdown",
   "id": "345b8cd8",
   "metadata": {},
   "source": [
    "### 모델 생성 및 훈련"
   ]
  },
  {
   "cell_type": "code",
   "execution_count": 29,
   "id": "369870ab",
   "metadata": {},
   "outputs": [
    {
     "data": {
      "text/html": [
       "<style>#sk-container-id-2 {color: black;background-color: white;}#sk-container-id-2 pre{padding: 0;}#sk-container-id-2 div.sk-toggleable {background-color: white;}#sk-container-id-2 label.sk-toggleable__label {cursor: pointer;display: block;width: 100%;margin-bottom: 0;padding: 0.3em;box-sizing: border-box;text-align: center;}#sk-container-id-2 label.sk-toggleable__label-arrow:before {content: \"▸\";float: left;margin-right: 0.25em;color: #696969;}#sk-container-id-2 label.sk-toggleable__label-arrow:hover:before {color: black;}#sk-container-id-2 div.sk-estimator:hover label.sk-toggleable__label-arrow:before {color: black;}#sk-container-id-2 div.sk-toggleable__content {max-height: 0;max-width: 0;overflow: hidden;text-align: left;background-color: #f0f8ff;}#sk-container-id-2 div.sk-toggleable__content pre {margin: 0.2em;color: black;border-radius: 0.25em;background-color: #f0f8ff;}#sk-container-id-2 input.sk-toggleable__control:checked~div.sk-toggleable__content {max-height: 200px;max-width: 100%;overflow: auto;}#sk-container-id-2 input.sk-toggleable__control:checked~label.sk-toggleable__label-arrow:before {content: \"▾\";}#sk-container-id-2 div.sk-estimator input.sk-toggleable__control:checked~label.sk-toggleable__label {background-color: #d4ebff;}#sk-container-id-2 div.sk-label input.sk-toggleable__control:checked~label.sk-toggleable__label {background-color: #d4ebff;}#sk-container-id-2 input.sk-hidden--visually {border: 0;clip: rect(1px 1px 1px 1px);clip: rect(1px, 1px, 1px, 1px);height: 1px;margin: -1px;overflow: hidden;padding: 0;position: absolute;width: 1px;}#sk-container-id-2 div.sk-estimator {font-family: monospace;background-color: #f0f8ff;border: 1px dotted black;border-radius: 0.25em;box-sizing: border-box;margin-bottom: 0.5em;}#sk-container-id-2 div.sk-estimator:hover {background-color: #d4ebff;}#sk-container-id-2 div.sk-parallel-item::after {content: \"\";width: 100%;border-bottom: 1px solid gray;flex-grow: 1;}#sk-container-id-2 div.sk-label:hover label.sk-toggleable__label {background-color: #d4ebff;}#sk-container-id-2 div.sk-serial::before {content: \"\";position: absolute;border-left: 1px solid gray;box-sizing: border-box;top: 0;bottom: 0;left: 50%;z-index: 0;}#sk-container-id-2 div.sk-serial {display: flex;flex-direction: column;align-items: center;background-color: white;padding-right: 0.2em;padding-left: 0.2em;position: relative;}#sk-container-id-2 div.sk-item {position: relative;z-index: 1;}#sk-container-id-2 div.sk-parallel {display: flex;align-items: stretch;justify-content: center;background-color: white;position: relative;}#sk-container-id-2 div.sk-item::before, #sk-container-id-2 div.sk-parallel-item::before {content: \"\";position: absolute;border-left: 1px solid gray;box-sizing: border-box;top: 0;bottom: 0;left: 50%;z-index: -1;}#sk-container-id-2 div.sk-parallel-item {display: flex;flex-direction: column;z-index: 1;position: relative;background-color: white;}#sk-container-id-2 div.sk-parallel-item:first-child::after {align-self: flex-end;width: 50%;}#sk-container-id-2 div.sk-parallel-item:last-child::after {align-self: flex-start;width: 50%;}#sk-container-id-2 div.sk-parallel-item:only-child::after {width: 0;}#sk-container-id-2 div.sk-dashed-wrapped {border: 1px dashed gray;margin: 0 0.4em 0.5em 0.4em;box-sizing: border-box;padding-bottom: 0.4em;background-color: white;}#sk-container-id-2 div.sk-label label {font-family: monospace;font-weight: bold;display: inline-block;line-height: 1.2em;}#sk-container-id-2 div.sk-label-container {text-align: center;}#sk-container-id-2 div.sk-container {/* jupyter's `normalize.less` sets `[hidden] { display: none; }` but bootstrap.min.css set `[hidden] { display: none !important; }` so we also need the `!important` here to be able to override the default hidden behavior on the sphinx rendered scikit-learn.org. See: https://github.com/scikit-learn/scikit-learn/issues/21755 */display: inline-block !important;position: relative;}#sk-container-id-2 div.sk-text-repr-fallback {display: none;}</style><div id=\"sk-container-id-2\" class=\"sk-top-container\"><div class=\"sk-text-repr-fallback\"><pre>LogisticRegression(max_iter=1000, random_state=21)</pre><b>In a Jupyter environment, please rerun this cell to show the HTML representation or trust the notebook. <br />On GitHub, the HTML representation is unable to render, please try loading this page with nbviewer.org.</b></div><div class=\"sk-container\" hidden><div class=\"sk-item\"><div class=\"sk-estimator sk-toggleable\"><input class=\"sk-toggleable__control sk-hidden--visually\" id=\"sk-estimator-id-2\" type=\"checkbox\" checked><label for=\"sk-estimator-id-2\" class=\"sk-toggleable__label sk-toggleable__label-arrow\">LogisticRegression</label><div class=\"sk-toggleable__content\"><pre>LogisticRegression(max_iter=1000, random_state=21)</pre></div></div></div></div></div>"
      ],
      "text/plain": [
       "LogisticRegression(max_iter=1000, random_state=21)"
      ]
     },
     "execution_count": 29,
     "metadata": {},
     "output_type": "execute_result"
    }
   ],
   "source": [
    "# 이진 분류이므로 모든 분류기를 사용할 수 있음\n",
    "# 그 중 로지스틱 회귀를 사용\n",
    "from sklearn.linear_model import LogisticRegression\n",
    "\n",
    "# 모델 만들기\n",
    "logistic_model = LogisticRegression(max_iter = 1000, random_state = 21)\n",
    "\n",
    "# 훈련\n",
    "logistic_model.fit(X_train, y_train)"
   ]
  },
  {
   "cell_type": "code",
   "execution_count": 30,
   "id": "18e84789",
   "metadata": {},
   "outputs": [
    {
     "data": {
      "text/plain": [
       "array([[0.68355424, 0.31644576],\n",
       "       [0.37756629, 0.62243371],\n",
       "       [0.91737753, 0.08262247],\n",
       "       ...,\n",
       "       [0.70696487, 0.29303513],\n",
       "       [0.44142422, 0.55857578],\n",
       "       [0.76940437, 0.23059563]])"
      ]
     },
     "execution_count": 30,
     "metadata": {},
     "output_type": "execute_result"
    }
   ],
   "source": [
    "# 예측을 통해 확인\n",
    "logistic_model.predict(X_test)\n",
    "\n",
    "# 예측 확률\n",
    "logistic_model.predict_proba(X_test)"
   ]
  },
  {
   "cell_type": "markdown",
   "id": "35e5e5a1",
   "metadata": {},
   "source": [
    "### 평가 지표 확인"
   ]
  },
  {
   "cell_type": "code",
   "execution_count": 32,
   "id": "a9596011",
   "metadata": {},
   "outputs": [
    {
     "name": "stdout",
     "output_type": "stream",
     "text": [
      "0.7959327985722137\n",
      "(60000,)\n"
     ]
    }
   ],
   "source": [
    "# 이 문제에서는 평가 지표로 ROC AUC 를 사용\n",
    "# 1이 될 확률을 사용\n",
    "y_preds = logistic_model.predict_proba(X_valid)[:, 1]\n",
    "\n",
    "from sklearn.metrics import roc_auc_score\n",
    "\n",
    "roc_auc = roc_auc_score(y_valid, y_preds)\n",
    "print(roc_auc) # 0.7959\n",
    "print(y_preds.shape)"
   ]
  },
  {
   "cell_type": "markdown",
   "id": "d39944b0",
   "metadata": {},
   "source": [
    "### 제출용 결과 파일을 생성"
   ]
  },
  {
   "cell_type": "code",
   "execution_count": 33,
   "id": "9c80a2c0",
   "metadata": {},
   "outputs": [],
   "source": [
    "y_preds = logistic_model.predict_proba(X_test)[:, 1]\n",
    "\n",
    "# 결과로 나온 1이 될 확률을 submission 파일의 target 에 반영\n",
    "submission['target'] = y_preds\n",
    "# 제출할 csv 파일 생성\n",
    "submission.to_csv('submission.csv')"
   ]
  },
  {
   "cell_type": "markdown",
   "id": "7dad8312",
   "metadata": {},
   "source": [
    "## 모델 수정"
   ]
  },
  {
   "cell_type": "code",
   "execution_count": null,
   "id": "d3ffd37e",
   "metadata": {},
   "outputs": [],
   "source": [
    "# 데이터 확인\n",
    "all_data.head()"
   ]
  },
  {
   "cell_type": "markdown",
   "id": "c007cd54",
   "metadata": {},
   "source": [
    "## 이진 feature 인코딩"
   ]
  },
  {
   "cell_type": "code",
   "execution_count": null,
   "id": "c28be248",
   "metadata": {},
   "outputs": [],
   "source": [
    "# 문자로 된 경우 숫자로 수정\n",
    "# bin_3 에서 F 는 0으로, T 는 1로 수정\n",
    "# bin_4 에서 N 는 0으로, Y 는 1로 수정\n",
    "\n",
    "all_data['bin_3'] = all_data['bin_3'].map({'F' : 0, 'T' : 1})\n",
    "all_data['bin_4'] = all_data['bin_4'].map({'N' : 0, 'Y' : 1})\n",
    "\n",
    "all_data.head()"
   ]
  },
  {
   "cell_type": "code",
   "execution_count": null,
   "id": "1aee6973",
   "metadata": {},
   "outputs": [],
   "source": [
    "# 순서형 범주의 경우 순서를 지켜서 숫자로 수정\n",
    "\n",
    "# 순서형 목록을 직접 인코딩\n",
    "# dict 생성\n",
    "ord1dict = {'Novice' : 0, 'Contributor' : 1, 'Expert' : 2, 'Master' : 3, 'Grandmaster' : 4}\n",
    "ord2dict = {'Freezing' : 0, 'Cold' : 1, 'Warm' : 2, 'Hot' : 3, 'Boiling Hot' : 4, 'Lava Hot' : 5}\n",
    "\n",
    "all_data['ord_1'] = all_data['ord_1'].map(ord1dict)\n",
    "all_data['ord_2'] = all_data['ord_2'].map(ord2dict)\n",
    "\n",
    "all_data.head()"
   ]
  },
  {
   "cell_type": "markdown",
   "id": "f60067b2",
   "metadata": {},
   "source": [
    "## 순서형 목록 인코딩"
   ]
  },
  {
   "cell_type": "code",
   "execution_count": null,
   "id": "9ba12ee3",
   "metadata": {},
   "outputs": [],
   "source": [
    "# ord_3, 4, 5 는 순서가 있는 범주형이므로 \n",
    "# 원 핫 인코딩 대신 Ordinal encoding 을 수행\n",
    "# 다른 숫자로 대체하는게 아니라 순서대로 정렬\n",
    "\n",
    "from sklearn.preprocessing import OrdinalEncoder\n",
    "\n",
    "ord_345 = ['ord_3', 'ord_4', 'ord_5']\n",
    "\n",
    "ord_encoder = OrdinalEncoder()\n",
    "all_data[ord_345] = ord_encoder.fit_transform(all_data[ord_345])\n",
    "\n",
    "for feature, categories in zip(ord_345, ord_encoder.categories_):\n",
    "    print(feature)\n",
    "    print(categories)"
   ]
  },
  {
   "cell_type": "markdown",
   "id": "0a67bfdf",
   "metadata": {},
   "source": [
    "## 명목형 목록 인코딩"
   ]
  },
  {
   "cell_type": "code",
   "execution_count": null,
   "id": "6e1a4672",
   "metadata": {},
   "outputs": [],
   "source": [
    "nom_features = ['nom_' + str(i) for i in range(10)]\n",
    "\n",
    "from sklearn.preprocessing import OneHotEncoder\n",
    "\n",
    "onehot_encoder = OneHotEncoder()\n",
    "encoded_nom_matrix = onehot_encoder.fit_transform(all_data[nom_features])\n",
    "\n",
    "all_data = all_data.drop(nom_features, axis = 1)\n",
    "\n",
    "print(all_data.head())"
   ]
  },
  {
   "cell_type": "markdown",
   "id": "934bf25d",
   "metadata": {},
   "source": [
    "## 날짜 목록 인코딩"
   ]
  },
  {
   "cell_type": "code",
   "execution_count": null,
   "id": "29ad0f14",
   "metadata": {},
   "outputs": [],
   "source": [
    "# 이전과 같은 방식으로 인코딩 수행\n",
    "\n",
    "date_features = ['day', 'month']\n",
    "encoded_date_matrix = onehot_encoder.fit_transform(all_data[data_features])\n",
    "all_data = all_data.drop(date_features, axis = 1)\n",
    "\n",
    "print(encoded_date_matrix)\n",
    "print(all_data.head())"
   ]
  },
  {
   "cell_type": "markdown",
   "id": "0d8321f9",
   "metadata": {},
   "source": [
    "## 순서형 목록은 스케일링"
   ]
  },
  {
   "cell_type": "code",
   "execution_count": null,
   "id": "0b56d82b",
   "metadata": {},
   "outputs": [],
   "source": [
    "# MinMax 방식으로 스케일링 적용\n",
    "from sklearn.preprocessing import MinMaxScaler\n",
    "\n",
    "ord_features = ['ord_' + str(i) for i in range(6)]\n",
    "all_data[ord_features] = MinMaxScaler().fit_transform(all_data[ord_features])\n",
    "# 스케일링 결과 확인\n",
    "all_data[ord_features]"
   ]
  },
  {
   "cell_type": "markdown",
   "id": "ca4cb20b",
   "metadata": {},
   "source": [
    "## 인코딩 한 데이터와 스케일링 한 데이터 결합"
   ]
  },
  {
   "cell_type": "code",
   "execution_count": null,
   "id": "e1a7746b",
   "metadata": {},
   "outputs": [],
   "source": [
    "from scipy import sparse\n",
    "\n",
    "all_data_sparse = sparse.hstack([sparse.csr_matrix(all_data),\n",
    "                               encoded_nom_matrix, encoded_date_matrix],\n",
    "                                 format = 'csr')\n",
    "\n",
    "all_data_sparse"
   ]
  },
  {
   "cell_type": "markdown",
   "id": "e1f77956",
   "metadata": {},
   "source": [
    "## 훈련 데이터와 검증 데이터 생성"
   ]
  },
  {
   "cell_type": "code",
   "execution_count": null,
   "id": "a10e3304",
   "metadata": {},
   "outputs": [],
   "source": [
    "num_train = len(train)\n",
    "\n",
    "X_train = all_data_sparse[:num_train]\n",
    "X_test = all_data_sparse[num_train:]\n",
    "y = train['target']\n",
    "\n",
    "X_train, X_valid, y_train, y_valid = train_test_split(X_train, y, stratify = y,\n",
    "                                                     test_size = 0.2, random_state = 21)"
   ]
  },
  {
   "cell_type": "markdown",
   "id": "e20cf756",
   "metadata": {},
   "source": [
    "## 하이퍼 파라미터 튜닝"
   ]
  },
  {
   "cell_type": "code",
   "execution_count": null,
   "id": "5952a8f5",
   "metadata": {},
   "outputs": [],
   "source": [
    "from sklearn.model_selection import GridSearchCV\n",
    "\n",
    "logistic_model = LogisticRegression()\n",
    "\n",
    "# 파라미터 목록 생성\n",
    "lr_params = {\n",
    "    'C' : [0.1, 0.125, 0.2, 0.3],\n",
    "    'max_iter' : [500, 800, 1000],\n",
    "    'solver' : ['liblinear'],\n",
    "    'random_state' : [21]\n",
    "}\n",
    "\n",
    "gridsearch_logistic_model = GridSearchCV(estimator = logistic_model, \n",
    "                                        param_grid = lr_params,\n",
    "                                        scoring = 'roc_auc', cv = 5)\n",
    "\n",
    "gridsearch_logistic_model.fit(X_train, y_train)\n",
    "\n",
    "print('최적의 파라미터 :', gridsearch_logistic_model.best_params_)"
   ]
  },
  {
   "cell_type": "code",
   "execution_count": null,
   "id": "4d56264d",
   "metadata": {},
   "outputs": [],
   "source": []
  },
  {
   "cell_type": "code",
   "execution_count": null,
   "id": "d7967886",
   "metadata": {},
   "outputs": [],
   "source": []
  },
  {
   "cell_type": "code",
   "execution_count": null,
   "id": "b4615902",
   "metadata": {},
   "outputs": [],
   "source": []
  },
  {
   "cell_type": "code",
   "execution_count": null,
   "id": "676455d2",
   "metadata": {},
   "outputs": [],
   "source": []
  },
  {
   "cell_type": "code",
   "execution_count": null,
   "id": "479d39fd",
   "metadata": {},
   "outputs": [],
   "source": []
  },
  {
   "cell_type": "code",
   "execution_count": null,
   "id": "482400ba",
   "metadata": {},
   "outputs": [],
   "source": []
  }
 ],
 "metadata": {
  "kernelspec": {
   "display_name": "Python 3 (ipykernel)",
   "language": "python",
   "name": "python3"
  },
  "language_info": {
   "codemirror_mode": {
    "name": "ipython",
    "version": 3
   },
   "file_extension": ".py",
   "mimetype": "text/x-python",
   "name": "python",
   "nbconvert_exporter": "python",
   "pygments_lexer": "ipython3",
   "version": "3.10.9"
  }
 },
 "nbformat": 4,
 "nbformat_minor": 5
}
